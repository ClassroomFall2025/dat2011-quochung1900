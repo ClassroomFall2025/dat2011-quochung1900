{
 "cells": [
  {
   "cell_type": "markdown",
   "id": "fdeff819",
   "metadata": {},
   "source": [
    "# Sinh Viên thực hiện Lab 5 ở Đây"
   ]
  },
  {
   "cell_type": "markdown",
   "id": "acc5d7dc",
   "metadata": {},
   "source": [
    "## Lab 5 - Bài 1"
   ]
  },
  {
   "cell_type": "code",
   "execution_count": null,
   "id": "001e0507",
   "metadata": {},
   "outputs": [
    {
     "name": "stdout",
     "output_type": "stream",
     "text": [
      "Tên sản phẩm: Beer SG\n",
      "Giá: 20000\n",
      "Giảm giá: 20000\n",
      "Thuế nhập khẩu: 2000.0\n",
      "Tên sản phẩm: Rượu\n",
      "Giá: 6000\n",
      "Giảm giá: 10000\n",
      "Thuế nhập khẩu: 600.0\n"
     ]
    }
   ],
   "source": [
    "# Code lab 5 bài 1 ở đây\n",
    "from sp import SanPham\n",
    "\n",
    "sp1 = SanPham(\"Beer SG\", 20000, 20000)\n",
    "sp1.xuat_tt_sp()\n",
    "\n",
    "sp2 = SanPham(\"Rượu\", 6000, 10000)\n",
    "sp2.xuat_tt_sp()\n"
   ]
  },
  {
   "cell_type": "markdown",
   "id": "c0835310",
   "metadata": {},
   "source": [
    "## Lab 5 - Bài 2"
   ]
  },
  {
   "cell_type": "code",
   "execution_count": null,
   "id": "fa9cb39f",
   "metadata": {},
   "outputs": [
    {
     "name": "stdout",
     "output_type": "stream",
     "text": [
      "Tên sản phẩm: MN\n",
      "Giá: 3004.0\n",
      "Giảm giá: 1945.0\n",
      "Thuế nhập khẩu: 300.40000000000003\n"
     ]
    }
   ],
   "source": [
    "# Code lab 5  bài 2 ở đây\n",
    "from sp import *\n",
    "\n",
    "\n",
    "sp1 = SanPham(\"\",\"\",\"\")\n",
    "sp1.nhap_thong_tin()\n",
    "sp1.xuat_tt_sp()\n",
    "sp2 = SanPham(\"\",\"\",\"\")\n",
    "sp2.nhap_thong_tin()\n",
    "sp2.xuat_tt_sp()\n",
    "\n",
    "\n"
   ]
  },
  {
   "cell_type": "markdown",
   "id": "0f2483fe",
   "metadata": {},
   "source": [
    "## Lab 5 - Bài 3"
   ]
  },
  {
   "cell_type": "code",
   "execution_count": 1,
   "id": "7034990b",
   "metadata": {},
   "outputs": [
    {
     "name": "stdout",
     "output_type": "stream",
     "text": [
      "Tên sản phẩm: GIAY\n",
      "Giá: 6000.0\n",
      "Giảm giá: 10.0\n",
      "Thuế nhập khẩu: 600.0\n",
      "Tên sản phẩm: RAU\n",
      "Giá: 9000.0\n",
      "Giảm giá: 20.0\n",
      "Thuế nhập khẩu: 900.0\n"
     ]
    }
   ],
   "source": [
    "# Code lab 5  bài 3 ở đây\n",
    "from sp import *\n",
    "\n",
    "sp1 = SanPham(\"\",\"\",\"\")\n",
    "sp1.nhap_thong_tin()\n",
    "sp1.xuat_tt_sp()\n",
    "sp2 = SanPham(\"\",\"\",\"\")\n",
    "sp2.nhap_thong_tin()\n",
    "sp2.xuat_tt_sp()"
   ]
  },
  {
   "cell_type": "markdown",
   "id": "d36ea3d3",
   "metadata": {},
   "source": [
    "## Lab 5 - Bài 4"
   ]
  },
  {
   "cell_type": "code",
   "execution_count": 2,
   "id": "4c707ec1",
   "metadata": {},
   "outputs": [
    {
     "name": "stdout",
     "output_type": "stream",
     "text": [
      "Tên sản phẩm: duahau\n",
      "Giá: 10000.0\n",
      "Giảm giá: 50.0\n",
      "Thuế nhập khẩu: 1000.0\n",
      "Tên sản phẩm: gao\n",
      "Giá: 80000.0\n",
      "Giảm giá: 5.0\n",
      "Thuế nhập khẩu: 8000.0\n"
     ]
    }
   ],
   "source": [
    "# code lab 5 bài 4 ở đây\n",
    "from sp import *\n",
    "\n",
    "sp1 = SanPham(\"\",\"\",\"\")\n",
    "sp1.nhap_thong_tin()\n",
    "sp1.xuat_tt_sp()\n",
    "sp2 = SanPham(\"\",\"\",\"\")\n",
    "sp2.nhap_thong_tin()\n",
    "sp2.xuat_tt_sp()"
   ]
  },
  {
   "cell_type": "markdown",
   "id": "e2b41d4a",
   "metadata": {},
   "source": [
    "## Lab 5 - Bài 5: bài tập làm thêm"
   ]
  },
  {
   "cell_type": "code",
   "execution_count": null,
   "id": "0e0172f7",
   "metadata": {},
   "outputs": [],
   "source": [
    "# code lab 5  bài làm thêm ở đây "
   ]
  }
 ],
 "metadata": {
  "kernelspec": {
   "display_name": "Python 3",
   "language": "python",
   "name": "python3"
  },
  "language_info": {
   "codemirror_mode": {
    "name": "ipython",
    "version": 3
   },
   "file_extension": ".py",
   "mimetype": "text/x-python",
   "name": "python",
   "nbconvert_exporter": "python",
   "pygments_lexer": "ipython3",
   "version": "3.13.7"
  }
 },
 "nbformat": 4,
 "nbformat_minor": 5
}
