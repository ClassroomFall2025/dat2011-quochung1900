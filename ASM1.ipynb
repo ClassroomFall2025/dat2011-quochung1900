{
 "cells": [
  {
   "cell_type": "markdown",
   "id": "4a78439e",
   "metadata": {},
   "source": [
    "## GIAI ĐOẠN 1 ASSGINMENT"
   ]
  },
  {
   "cell_type": "code",
   "execution_count": 1,
   "id": "3300e341",
   "metadata": {},
   "outputs": [
    {
     "name": "stdout",
     "output_type": "stream",
     "text": [
      "=== CHƯƠNG TRÌNH QUẢN LÝ NHÂN VIÊN - GIAI ĐOẠN 1 ===\n",
      "\n",
      "===== MENU QUẢN LÝ NHÂN VIÊN =====\n",
      "1. Y1 - Nhập danh sách và lưu file\n",
      "2. Y2 - Đọc từ file và xuất\n",
      "3. Y3 - Tìm nhân viên theo mã\n",
      "4. Y4 - Xóa nhân viên theo mã (cập nhật file)\n",
      "5. Y5 - Cập nhật nhân viên theo mã (ghi file)\n",
      "6. Y6 - Tìm nhân viên theo khoảng lương\n",
      "7. Y7 - Sắp xếp theo họ và tên\n",
      "8. Y8 - Sắp xếp theo thu nhập\n",
      "9. Y9 - Top 5 nhân viên thu nhập cao nhất\n",
      "0. Thoát\n",
      "===================================\n",
      "[Y3] Tìm và hiển thị nhân viên theo mã.\n",
      "\n",
      "===== MENU QUẢN LÝ NHÂN VIÊN =====\n",
      "1. Y1 - Nhập danh sách và lưu file\n",
      "2. Y2 - Đọc từ file và xuất\n",
      "3. Y3 - Tìm nhân viên theo mã\n",
      "4. Y4 - Xóa nhân viên theo mã (cập nhật file)\n",
      "5. Y5 - Cập nhật nhân viên theo mã (ghi file)\n",
      "6. Y6 - Tìm nhân viên theo khoảng lương\n",
      "7. Y7 - Sắp xếp theo họ và tên\n",
      "8. Y8 - Sắp xếp theo thu nhập\n",
      "9. Y9 - Top 5 nhân viên thu nhập cao nhất\n",
      "0. Thoát\n",
      "===================================\n",
      "[Y2] Đọc danh sách nhân viên từ file và hiển thị.\n",
      "\n",
      "===== MENU QUẢN LÝ NHÂN VIÊN =====\n",
      "1. Y1 - Nhập danh sách và lưu file\n",
      "2. Y2 - Đọc từ file và xuất\n",
      "3. Y3 - Tìm nhân viên theo mã\n",
      "4. Y4 - Xóa nhân viên theo mã (cập nhật file)\n",
      "5. Y5 - Cập nhật nhân viên theo mã (ghi file)\n",
      "6. Y6 - Tìm nhân viên theo khoảng lương\n",
      "7. Y7 - Sắp xếp theo họ và tên\n",
      "8. Y8 - Sắp xếp theo thu nhập\n",
      "9. Y9 - Top 5 nhân viên thu nhập cao nhất\n",
      "0. Thoát\n",
      "===================================\n",
      "[Y1] Nhập danh sách nhân viên và lưu vào file.\n",
      "\n",
      "===== MENU QUẢN LÝ NHÂN VIÊN =====\n",
      "1. Y1 - Nhập danh sách và lưu file\n",
      "2. Y2 - Đọc từ file và xuất\n",
      "3. Y3 - Tìm nhân viên theo mã\n",
      "4. Y4 - Xóa nhân viên theo mã (cập nhật file)\n",
      "5. Y5 - Cập nhật nhân viên theo mã (ghi file)\n",
      "6. Y6 - Tìm nhân viên theo khoảng lương\n",
      "7. Y7 - Sắp xếp theo họ và tên\n",
      "8. Y8 - Sắp xếp theo thu nhập\n",
      "9. Y9 - Top 5 nhân viên thu nhập cao nhất\n",
      "0. Thoát\n",
      "===================================\n",
      "[Y6] Tìm nhân viên theo khoảng lương.\n",
      "\n",
      "===== MENU QUẢN LÝ NHÂN VIÊN =====\n",
      "1. Y1 - Nhập danh sách và lưu file\n",
      "2. Y2 - Đọc từ file và xuất\n",
      "3. Y3 - Tìm nhân viên theo mã\n",
      "4. Y4 - Xóa nhân viên theo mã (cập nhật file)\n",
      "5. Y5 - Cập nhật nhân viên theo mã (ghi file)\n",
      "6. Y6 - Tìm nhân viên theo khoảng lương\n",
      "7. Y7 - Sắp xếp theo họ và tên\n",
      "8. Y8 - Sắp xếp theo thu nhập\n",
      "9. Y9 - Top 5 nhân viên thu nhập cao nhất\n",
      "0. Thoát\n",
      "===================================\n",
      "Tạm biệt!\n"
     ]
    }
   ],
   "source": [
    "from ASM1 import menu_quan_ly_nhan_vien\n",
    "\n",
    "print(\"=== CHƯƠNG TRÌNH QUẢN LÝ NHÂN VIÊN - GIAI ĐOẠN 1 ===\")\n",
    "menu_quan_ly_nhan_vien()\n"
   ]
  },
  {
   "cell_type": "code",
   "execution_count": null,
   "id": "5d356977",
   "metadata": {},
   "outputs": [],
   "source": []
  }
 ],
 "metadata": {
  "kernelspec": {
   "display_name": "Python 3",
   "language": "python",
   "name": "python3"
  },
  "language_info": {
   "codemirror_mode": {
    "name": "ipython",
    "version": 3
   },
   "file_extension": ".py",
   "mimetype": "text/x-python",
   "name": "python",
   "nbconvert_exporter": "python",
   "pygments_lexer": "ipython3",
   "version": "3.13.7"
  }
 },
 "nbformat": 4,
 "nbformat_minor": 5
}
