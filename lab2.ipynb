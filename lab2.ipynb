{
 "cells": [
  {
   "cell_type": "markdown",
   "id": "fdeff819",
   "metadata": {},
   "source": [
    "# Sinh Viên thực hiện Lab 2 ở Đây"
   ]
  },
  {
   "cell_type": "markdown",
   "id": "acc5d7dc",
   "metadata": {},
   "source": [
    "## Lab 2 - Bài 1"
   ]
  },
  {
   "cell_type": "code",
   "execution_count": null,
   "id": "001e0507",
   "metadata": {},
   "outputs": [],
   "source": [
    "# Code lab 2 bài 1 ở đây\n",
    "BaiTho = \"\"\"Kiếp con người mỏng manh như là gió\n",
    "Sống trên đời có được mấy lần vui\n",
    "Sao phải đau mà không thể mỉm cười\n",
    "Gắng buông nỗi ngậm ngùi nơi quá khứ\n",
    "Nếu có thể sao ta không làm thử\n",
    "Để tâm hồn khắc hai chữ bình an\n",
    "Cho đôi chân bước thanh thản nhẹ nhàng\n",
    "Dù hướng đời có muôn ngàn đá sỏi\"\"\"\n",
    "if \"con người\" in BaiTho:\n",
    "    print(\"Có từ 'con người' trong chuỗi\")\n",
    "else:\n",
    "    print(\"Không có từ 'con người' trong chuỗi\")\n",
    "start = BaiTho.find(\"con người\")   \n",
    "end = start + len(\"con người\")  \n",
    "BaiThoSau = BaiTho[start:end]\n",
    "print(\"Trích ra:\", BaiThoSau)\n",
    "\n",
    "\n",
    "print(\"In hoa:\", BaiThoSau.upper())"
   ]
  },
  {
   "cell_type": "markdown",
   "id": "c0835310",
   "metadata": {},
   "source": [
    "## Lab 2 - Bài 2"
   ]
  },
  {
   "cell_type": "code",
   "execution_count": null,
   "id": "fa9cb39f",
   "metadata": {},
   "outputs": [],
   "source": [
    "# Code lab 2  bài 2 ở đây\n",
    "BaiTho = \"\"\"Kiếp con người mỏng manh như là gió\n",
    "Sống trên đời có được mấy lần vui\n",
    "Sao phải đau mà không thể mỉm cười\n",
    "Gắng buông nỗi ngậm ngùi nơi quá khứ\n",
    "Nếu có thể sao ta không làm thử\n",
    "Để tâm hồn khắc hai chữ bình an\n",
    "Cho đôi chân bước thanh thản nhẹ nhàng\n",
    "Dù hướng đời có muôn ngàn đá sỏi\"\"\"\n",
    "\n",
    "BaiTho = BaiTho.replace(\"bình an\", \"hạnh phúc\")\n",
    "\n",
    "\n",
    "BaiTho = \"... \" + BaiTho + \" ...\"\n",
    "print(\"lab2\")"
   ]
  },
  {
   "cell_type": "markdown",
   "id": "0f2483fe",
   "metadata": {},
   "source": [
    "## Lab 2 - Bài 3"
   ]
  },
  {
   "cell_type": "code",
   "execution_count": null,
   "id": "7034990b",
   "metadata": {},
   "outputs": [],
   "source": [
    "# Code lab 2  bài 3 ở đây\n",
    "a = float(input(\"Nhập hệ số a: \"))\n",
    "b = float(input(\"Nhập hệ số b: \"))\n",
    "\n",
    "if a==0:\n",
    "    if b==0:\n",
    "        print(\"Phương trình có vô số nghiệm\")\n",
    "    else:\n",
    "        print(\"Phương trình vô nghiệm\")\n",
    "\n",
    "else:\n",
    "    x= -b/a\n",
    "    print(\"Nghiệm của phương trình x: \", x)"
   ]
  },
  {
   "cell_type": "markdown",
   "id": "d36ea3d3",
   "metadata": {},
   "source": [
    "## Lab 2 - Bài 4"
   ]
  },
  {
   "cell_type": "code",
   "execution_count": null,
   "id": "4c707ec1",
   "metadata": {},
   "outputs": [],
   "source": [
    "# code lab 2 bài 4 ở đây\n",
    "import math\n",
    "\n",
    "a = float(input(\"Nhập a: \"))\n",
    "b = float(input(\"Nhập b: \"))\n",
    "c = float(input(\"Nhập c: \"))\n",
    "\n",
    "if a == 0:\n",
    "    if b == 0:\n",
    "        if c == 0:\n",
    "            print(\"Phương trình có vô số nghiệm\")\n",
    "        else:\n",
    "            print(\"Phương trình vô nghiệm\")\n",
    "    else:\n",
    "        x = -c / b\n",
    "        print(\"Phương trình bậc nhất, nghiệm x =\", x)\n",
    "else:\n",
    "    delta = b**2 - 4*a*c\n",
    "\n",
    "    if delta < 0:\n",
    "        print(\"Phương trình vô nghiệm\")\n",
    "    elif delta == 0:\n",
    "        x = -b / (2*a)\n",
    "        print(\"Phương trình có nghiệm kép x =\", x)\n",
    "    else:\n",
    "        x1 = (-b + math.sqrt(delta)) / (2*a)\n",
    "        x2 = (-b - math.sqrt(delta)) / (2*a)\n",
    "        print(\"Phương trình có 2 nghiệm phân biệt:\")\n",
    "        print(f\"x1 ={x1: .2f}\")\n",
    "        print(f\"x2 ={x2: .2f}\")"
   ]
  },
  {
   "cell_type": "markdown",
   "id": "e2b41d4a",
   "metadata": {},
   "source": [
    "## Lab 2 - Bài 5: bài tập làm thêm"
   ]
  },
  {
   "cell_type": "code",
   "execution_count": 1,
   "id": "0e0172f7",
   "metadata": {},
   "outputs": [
    {
     "name": "stdout",
     "output_type": "stream",
     "text": [
      "Cộng 5.0\n",
      "Trừ 1.0\n",
      "Nhân 6.0\n",
      "Chia 1.5\n",
      "x^y 64.0\n",
      "Căn bậc hai của:  12.0 là 3.4641016151377544\n",
      "sin = 0.49999999999999994\n",
      "cos = 0.8660254037844387\n",
      "tan = 0.5773502691896257\n",
      "Không tính log của số <=0\n",
      "Số lớn nhất là:  4.0\n"
     ]
    }
   ],
   "source": [
    "# code lab 2  bài làm thêm ở đây \n",
    "import math\n",
    "\n",
    "a = float(input(\"Nhập a: \"))\n",
    "b = float(input(\"Nhập b: \"))\n",
    "print(\"Cộng\", a+b)\n",
    "print(\"Trừ\", a-b)\n",
    "print(\"Nhân\", a*b)\n",
    "if b!=0:\n",
    "    print(\"Chia\", a/b)\n",
    "else:\n",
    "    print(\"không thể chia cho 0\")\n",
    "\n",
    "\n",
    "x = float(input(\"Nhập x: \"))\n",
    "y = float(input(\"Nhập y: \"))\n",
    "print(\"x^y\", x**y)\n",
    "\n",
    "so =float(input(\"\\nNhập số để tính căn bậc hai: \"))\n",
    "if so>= 0:\n",
    "    print(\"Căn bậc hai của: \",so,\"là\",math.sqrt(so))\n",
    "else:\n",
    "    print(\"Không tính bậc hai của số âm\")\n",
    "\n",
    "goc = float(input(\"\\nNhập góc: \"))\n",
    "rad = math.radians(goc)\n",
    "print(\"sin =\", math.sin(rad))\n",
    "print(\"cos =\", math.cos(rad))\n",
    "print(\"tan =\", math.tan(rad))\n",
    "\n",
    "\n",
    "num = float(input(\"\\nNhập số để tính log: \"))\n",
    "if num>0:\n",
    "    print(\"log10= \",math.log10(num))\n",
    "    print(\"Ln= \", math.log(num))\n",
    "    base= float(input(\"Nhập cơ số log tùy chọn: \"))\n",
    "    if base >0 and base != 1:\n",
    "        print(\"log cơ số\", base, \"=\", math.log(num,base))\n",
    "    else:\n",
    "        print(\"Cơ số log không hợp lệ\")\n",
    "else:\n",
    "    print(\"Không tính log của số <=0\")\n",
    "\n",
    "so1= float(input(\"\\nNhập số thứ nhất:\"))\n",
    "so2 = float(input(\"Nhập số thứ hai: \"))\n",
    "so3 = float(input(\"Nhập số thứ ba: \"))\n",
    "max_num = so1\n",
    "if so2>max_num:\n",
    "    max_num=so2\n",
    "if so3>max_num:\n",
    "    max_num=so3\n",
    "print(\"Số lớn nhất là: \", max_num)\n"
   ]
  }
 ],
 "metadata": {
  "kernelspec": {
   "display_name": "Python 3",
   "language": "python",
   "name": "python3"
  },
  "language_info": {
   "codemirror_mode": {
    "name": "ipython",
    "version": 3
   },
   "file_extension": ".py",
   "mimetype": "text/x-python",
   "name": "python",
   "nbconvert_exporter": "python",
   "pygments_lexer": "ipython3",
   "version": "3.13.7"
  }
 },
 "nbformat": 4,
 "nbformat_minor": 5
}
