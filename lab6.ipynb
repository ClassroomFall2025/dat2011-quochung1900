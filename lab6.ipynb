{
 "cells": [
  {
   "cell_type": "markdown",
   "id": "fdeff819",
   "metadata": {},
   "source": [
    "# Sinh Viên thực hiện Lab 6 ở Đây"
   ]
  },
  {
   "cell_type": "markdown",
   "id": "acc5d7dc",
   "metadata": {},
   "source": [
    "## Lab 6 - Bài 1"
   ]
  },
  {
   "cell_type": "code",
   "execution_count": 2,
   "id": "001e0507",
   "metadata": {},
   "outputs": [
    {
     "name": "stdout",
     "output_type": "stream",
     "text": [
      "Hình chữ nhật\n",
      " Chiều dài: 321.0, Chiều rộng: 12.0\n",
      "Chu vi: 666.0, diện tích: 3852.0\n",
      "Hình vuông\n",
      "Cạnh: 321.0\n",
      "Chu vi: 1284.0, Diện tích: 103041.0\n"
     ]
    }
   ],
   "source": [
    "# Code lab 6 bài 1 ở đây\n",
    "from HCN import ChuNhat, HinhVuong\n",
    "\n",
    "sv = ChuNhat(0, 0)\n",
    "sv.nhap_thong_tin()\n",
    "sv.xuat_thong_tin()\n",
    "\n",
    "\n",
    "vh = HinhVuong(0)\n",
    "vh.nhap_thong_tin()\n",
    "vh.xuat_thong_tin()\n",
    "\n"
   ]
  },
  {
   "cell_type": "markdown",
   "id": "c0835310",
   "metadata": {},
   "source": [
    "## Lab 6 - Bài 2"
   ]
  },
  {
   "cell_type": "code",
   "execution_count": 20,
   "id": "fa9cb39f",
   "metadata": {},
   "outputs": [
    {
     "name": "stdout",
     "output_type": "stream",
     "text": [
      "Sinh viên: Nguyễn Văn B Sinh năm: 2006 Trường: CACH MANG THANG 8\n"
     ]
    }
   ],
   "source": [
    "# Code lab 6  bài 2 ở đây\n",
    "from sv import *\n",
    "sv = SinhVien (\"Nguyễn Văn B\", \"2006\",\"CACH MANG THANG 8\")\n",
    "sv.hien_thi_thong_tin()"
   ]
  },
  {
   "cell_type": "markdown",
   "id": "0f2483fe",
   "metadata": {},
   "source": [
    "## Lab 6 - Bài 3"
   ]
  },
  {
   "cell_type": "code",
   "execution_count": 1,
   "id": "7034990b",
   "metadata": {},
   "outputs": [
    {
     "name": "stdout",
     "output_type": "stream",
     "text": [
      "\n",
      "========== MENU QUẢN LÝ SINH VIÊN ==========\n",
      "1. Nhập danh sách sinh viên\n",
      "2. Xuất thông tin danh sách sinh viên\n",
      "3. Xuất danh sách sinh viên có học lực giỏi\n",
      "4. Sắp xếp danh sách sinh viên theo điểm\n",
      "5. Kết thúc\n",
      "============================================\n",
      "--- Nhập sinh viên ---\n",
      "Đã thêm sinh viên IT thành công!\n",
      "\n",
      "========== MENU QUẢN LÝ SINH VIÊN ==========\n",
      "1. Nhập danh sách sinh viên\n",
      "2. Xuất thông tin danh sách sinh viên\n",
      "3. Xuất danh sách sinh viên có học lực giỏi\n",
      "4. Sắp xếp danh sách sinh viên theo điểm\n",
      "5. Kết thúc\n",
      "============================================\n",
      "--- Nhập sinh viên ---\n",
      "Đã thêm sinh viên Iz thành công!\n",
      "\n",
      "========== MENU QUẢN LÝ SINH VIÊN ==========\n",
      "1. Nhập danh sách sinh viên\n",
      "2. Xuất thông tin danh sách sinh viên\n",
      "3. Xuất danh sách sinh viên có học lực giỏi\n",
      "4. Sắp xếp danh sách sinh viên theo điểm\n",
      "5. Kết thúc\n",
      "============================================\n",
      "Lựa chọn không hợp lệ. Vui lòng nhập số từ 1 đến 5.\n",
      "\n",
      "========== MENU QUẢN LÝ SINH VIÊN ==========\n",
      "1. Nhập danh sách sinh viên\n",
      "2. Xuất thông tin danh sách sinh viên\n",
      "3. Xuất danh sách sinh viên có học lực giỏi\n",
      "4. Sắp xếp danh sách sinh viên theo điểm\n",
      "5. Kết thúc\n",
      "============================================\n",
      "\n",
      "--- Danh sách sinh viên có học lực Giỏi và Xuất sắc ---\n",
      "Tên sinh viên        Ngành      Điểm       Học lực   \n",
      "============================================================\n",
      "Tên SV: A                    | Ngành: IT         | Điểm: 9.25       | Học lực: xuất sắc\n",
      "Tên SV: b                    | Ngành: Iz         | Điểm: 9.50       | Học lực: xuất sắc\n",
      "============================================================\n",
      "\n",
      "========== MENU QUẢN LÝ SINH VIÊN ==========\n",
      "1. Nhập danh sách sinh viên\n",
      "2. Xuất thông tin danh sách sinh viên\n",
      "3. Xuất danh sách sinh viên có học lực giỏi\n",
      "4. Sắp xếp danh sách sinh viên theo điểm\n",
      "5. Kết thúc\n",
      "============================================\n",
      "\n",
      "--- Danh sách sinh viên có học lực Giỏi và Xuất sắc ---\n",
      "Tên sinh viên        Ngành      Điểm       Học lực   \n",
      "============================================================\n",
      "Tên SV: A                    | Ngành: IT         | Điểm: 9.25       | Học lực: xuất sắc\n",
      "Tên SV: b                    | Ngành: Iz         | Điểm: 9.50       | Học lực: xuất sắc\n",
      "============================================================\n",
      "\n",
      "========== MENU QUẢN LÝ SINH VIÊN ==========\n",
      "1. Nhập danh sách sinh viên\n",
      "2. Xuất thông tin danh sách sinh viên\n",
      "3. Xuất danh sách sinh viên có học lực giỏi\n",
      "4. Sắp xếp danh sách sinh viên theo điểm\n",
      "5. Kết thúc\n",
      "============================================\n",
      "Cảm ơn bạn đã sử dụng chương trình. Tạm biệt!\n",
      "Tên SV: nguyen van a         | Ngành: IT         | Điểm: 0.00       | Học lực: Chưa đạt\n"
     ]
    }
   ],
   "source": [
    "# Code lab 6  bài 3 ở đây\n",
    "from sinhvienpoly import *\n",
    "sv = SinhVienPoly(\"nguyen van a\", \"IT\")\n",
    "sv.nhap_thong_tin()\n",
    "sv.get_diem()\n",
    "sv.get_hoc_luc()\n",
    "sv.xuat_thong_tin()\n"
   ]
  },
  {
   "cell_type": "markdown",
   "id": "d36ea3d3",
   "metadata": {},
   "source": [
    "## Lab 6 - Bài 4"
   ]
  },
  {
   "cell_type": "code",
   "execution_count": 3,
   "id": "4c707ec1",
   "metadata": {},
   "outputs": [
    {
     "name": "stdout",
     "output_type": "stream",
     "text": [
      "\n",
      "CHƯƠNG TRÌNH QUẢN LÝ SINH VIÊN \n",
      "1. Thêm sinh viên\n",
      "2. Xem danh sách\n",
      "3. Tìm SV giỏi (điểm >= 8)\n",
      "4. Sắp xếp theo điểm\n",
      "5. Thoát\n",
      "\n",
      "Sinh viên học lực giỏi:\n",
      "Danh sách rỗng.\n",
      "\n",
      "CHƯƠNG TRÌNH QUẢN LÝ SINH VIÊN \n",
      "1. Thêm sinh viên\n",
      "2. Xem danh sách\n",
      "3. Tìm SV giỏi (điểm >= 8)\n",
      "4. Sắp xếp theo điểm\n",
      "5. Thoát\n",
      "\n",
      "Danh sách rỗng.\n",
      "\n",
      "CHƯƠNG TRÌNH QUẢN LÝ SINH VIÊN \n",
      "1. Thêm sinh viên\n",
      "2. Xem danh sách\n",
      "3. Tìm SV giỏi (điểm >= 8)\n",
      "4. Sắp xếp theo điểm\n",
      "5. Thoát\n",
      "\n",
      "Đã thêm.\n",
      "\n",
      "CHƯƠNG TRÌNH QUẢN LÝ SINH VIÊN \n",
      "1. Thêm sinh viên\n",
      "2. Xem danh sách\n",
      "3. Tìm SV giỏi (điểm >= 8)\n",
      "4. Sắp xếp theo điểm\n",
      "5. Thoát\n",
      "\n",
      "Tạm biệt!\n"
     ]
    }
   ],
   "source": [
    "# code lab 6 bài 4 ở đây\n",
    "\n",
    "MENU = \"\"\"\n",
    "CHƯƠNG TRÌNH QUẢN LÝ SINH VIÊN \n",
    "1. Thêm sinh viên\n",
    "2. Xem danh sách\n",
    "3. Tìm SV giỏi (điểm >= 8)\n",
    "4. Sắp xếp theo điểm\n",
    "5. Thoát\n",
    "\"\"\"\n",
    "\n",
    "danh_sach_sinh_vien = []\n",
    "\n",
    "def hien_thi_sinh_vien(ds):\n",
    "    if not ds:\n",
    "        print(\"Danh sách rỗng.\")\n",
    "        return\n",
    "    for sv in ds:\n",
    "        print(f\"Mã: {sv['ma_sv']}, Tên: {sv['ten_sv']}, Điểm: {sv['diem']}\")\n",
    "\n",
    "while True:\n",
    "    print(MENU)\n",
    "    \n",
    "    chon = input(\"Nhập lựa chọn của bạn: \")\n",
    "\n",
    "    if chon == '1':\n",
    "        ma_sv = input(\"Mã SV: \")\n",
    "        ten_sv = input(\"Tên SV: \")\n",
    "        diem = float(input(\"Điểm: \"))\n",
    "        danh_sach_sinh_vien.append({'ma_sv': ma_sv, 'ten_sv': ten_sv, 'diem': diem})\n",
    "        print(\"Đã thêm.\")\n",
    "    elif chon == '2':\n",
    "        hien_thi_sinh_vien(danh_sach_sinh_vien)\n",
    "    elif chon == '3':\n",
    "        sv_gioi = [sv for sv in danh_sach_sinh_vien if sv['diem'] >= 8]\n",
    "        print(\"Sinh viên học lực giỏi:\")\n",
    "        hien_thi_sinh_vien(sv_gioi)\n",
    "    elif chon == '4':\n",
    "        danh_sach_sinh_vien.sort(key=lambda sv: sv['diem'], reverse=True)\n",
    "        print(\"Đã sắp xếp.\")\n",
    "        hien_thi_sinh_vien(danh_sach_sinh_vien)\n",
    "    elif chon == '5':\n",
    "        print(\"Tạm biệt!\")\n",
    "        break\n",
    "    else:\n",
    "        print(\"Lựa chọn không hợp lệ, vui lòng thử lại.\")"
   ]
  },
  {
   "cell_type": "markdown",
   "id": "e2b41d4a",
   "metadata": {},
   "source": [
    "## Lab 6 - Bài 5: bài tập làm thêm"
   ]
  },
  {
   "cell_type": "code",
   "execution_count": null,
   "id": "0e0172f7",
   "metadata": {},
   "outputs": [],
   "source": [
    "# code lab 6  bài làm thêm ở đây "
   ]
  }
 ],
 "metadata": {
  "kernelspec": {
   "display_name": "Python 3",
   "language": "python",
   "name": "python3"
  },
  "language_info": {
   "codemirror_mode": {
    "name": "ipython",
    "version": 3
   },
   "file_extension": ".py",
   "mimetype": "text/x-python",
   "name": "python",
   "nbconvert_exporter": "python",
   "pygments_lexer": "ipython3",
   "version": "3.13.7"
  }
 },
 "nbformat": 4,
 "nbformat_minor": 5
}
