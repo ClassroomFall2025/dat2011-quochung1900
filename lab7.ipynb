{
 "cells": [
  {
   "cell_type": "markdown",
   "id": "fdeff819",
   "metadata": {},
   "source": [
    "# Sinh Viên thực hiện Lab 7 ở Đây"
   ]
  },
  {
   "cell_type": "markdown",
   "id": "acc5d7dc",
   "metadata": {},
   "source": [
    "## Lab 7 - Bài 1"
   ]
  },
  {
   "cell_type": "code",
   "execution_count": 8,
   "id": "001e0507",
   "metadata": {},
   "outputs": [
    {
     "name": "stdout",
     "output_type": "stream",
     "text": [
      "\n",
      "Tự nguyện\n",
      "Trương Quốc Khánh\n",
      "Nếu là chim, tôi sẽ là loài bồ câu trắng\n",
      "Nếu là hoa, tôi sẽ là một đóa hướng dương\n",
      "Nếu là mây, tôi sẽ là một vầng mây ấm\n",
      "Là người, tôi sẽ chết cho quê hương.\n",
      "\n",
      "Là chim, tôi sẽ cất cao đôi cánh mềm\n",
      "Từ nam ra ngoài bắc báo tin nối liền\n",
      "Là hoa, tôi nở tình yêu ban sớm\n",
      "Cùng muôn trái tim ngất ngây hoà bình.\n",
      "\n",
      "Là mây, theo làn gió tung bay khắp trời\n",
      "Nghìn xưa oai hùng đó tôi xin tiếp lời\n",
      "Là người, xin một lần khi nằm xuống\n",
      "Nhìn anh em đứng lên phất cao ngọn cờ.\n"
     ]
    }
   ],
   "source": [
    "# Code lab 7 bài 1 ở đây\n",
    "file = open(\"DAT2011 - Lab 7 - Resource.txt\",\"r\", encoding=\"utf-8\")\n",
    "noidung = file.read()\n",
    "__doc__ = file.readline(-1)\n",
    "print(__doc__)\n",
    "print(noidung)\n",
    "file.close()"
   ]
  },
  {
   "cell_type": "markdown",
   "id": "c0835310",
   "metadata": {},
   "source": [
    "## Lab 7 - Bài 2"
   ]
  },
  {
   "cell_type": "code",
   "execution_count": null,
   "id": "fa9cb39f",
   "metadata": {},
   "outputs": [
    {
     "name": "stdout",
     "output_type": "stream",
     "text": [
      " Tạo file dữ liệu thành công!\n",
      "Toyota,Vios,2016,red\n",
      "Honda,City,2017,orange\n",
      "Mazda,CX5,2018,yellow\n",
      "Hyundai,Santafe,2019,green\n",
      "KIA,Morning,2020,blue\n",
      "\n"
     ]
    }
   ],
   "source": [
    "# Code lab 7  bài 2 ở đây\n",
    "filename = input(\"Nhập tên file .csv: \")\n",
    "\n",
    "\n",
    "with open(filename, \"a\", encoding=\"utf-8\") as f1:\n",
    "   \n",
    "    brands = (\"Toyota\", \"Honda\", \"Mazda\", \"Hyundai\", \"KIA\")\n",
    "    models = (\"Vios\", \"City\", \"CX5\", \"Santafe\", \"Morning\")\n",
    "    years = (2016, 2017, 2018, 2019, 2020)\n",
    "    colors = (\"red\", \"orange\", \"yellow\", \"green\", \"blue\")\n",
    "   \n",
    "    for x in range(5):\n",
    "        record = f\"{brands[x]},{models[x]},{years[x]},{colors[x]}\\n\"\n",
    "        f1.write(record)\n",
    "\n",
    "print(\" Tạo file dữ liệu thành công!\")\n",
    "\n",
    "with open(filename, \"r\", encoding=\"utf-8\") as f2:\n",
    "    print(f2.read())"
   ]
  },
  {
   "cell_type": "markdown",
   "id": "0f2483fe",
   "metadata": {},
   "source": [
    "## Lab 7 - Bài 3"
   ]
  },
  {
   "cell_type": "code",
   "execution_count": 9,
   "id": "7034990b",
   "metadata": {},
   "outputs": [
    {
     "name": "stdout",
     "output_type": "stream",
     "text": [
      "--- NHẬP THÔNG TIN 5 BÀI THƠ ---\n",
      "\n",
      "* Nhập thông tin bài thơ thứ 1:\n",
      "\n",
      "* Nhập thông tin bài thơ thứ 2:\n",
      "\n",
      "* Nhập thông tin bài thơ thứ 3:\n",
      "\n",
      "* Nhập thông tin bài thơ thứ 4:\n",
      "\n",
      "* Nhập thông tin bài thơ thứ 5:\n",
      "\n",
      "HOÀN TẤT GHI DỮ LIỆU:\n",
      " Đã ghi thông tin 5 bài thơ vào file: bai_tho.csv\n",
      " File được lưu tại: c:\\Users\\Administrator\\Desktop\\project\\dat2011-quochung1900\\bai_tho.csv\n"
     ]
    }
   ],
   "source": [
    "# Code lab 7  bài 3 ở đây\n",
    "import csv\n",
    "import os\n",
    "\n",
    "\n",
    "TEN_FILE_CSV = \"bai_tho.csv\"\n",
    "\n",
    "def nhap_va_ghi_bai_tho_csv():\n",
    "    \"\"\"\n",
    "    Nhập thông tin 5 bài thơ từ bàn phím và ghi vào file CSV.\n",
    "    Thông tin bao gồm: Tiêu đề, Tác giả, Năm sáng tác.\n",
    "    \"\"\"\n",
    "    \n",
    "  \n",
    "    du_lieu_bai_tho = [\n",
    "        [\"Tiêu đề\", \"Tác giả\", \"Năm sáng tác\"]  \n",
    "    ]\n",
    "    \n",
    "    print(\"--- NHẬP THÔNG TIN 5 BÀI THƠ ---\")\n",
    "    \n",
    "    \n",
    "    for i in range(1, 6): \n",
    "        print(f\"\\n* Nhập thông tin bài thơ thứ {i}:\")\n",
    "        \n",
    "        \n",
    "        tieu_de = input(\"   Nhập Tiêu đề: \")\n",
    "        \n",
    "        tac_gia = input(\"   Nhập Tác giả: \")\n",
    "        \n",
    "        \n",
    "        while True:\n",
    "            nam_sang_tac_str = input(\"   Nhập Năm sáng tác (số nguyên): \")\n",
    "            try:\n",
    "                nam_sang_tac = int(nam_sang_tac_str)\n",
    "                break\n",
    "            except ValueError:\n",
    "                print(\"   [Lỗi] Năm sáng tác phải là một số nguyên. Vui lòng nhập lại.\")\n",
    "        \n",
    "\n",
    "        du_lieu_bai_tho.append([tieu_de, tac_gia, nam_sang_tac])\n",
    "\n",
    "\n",
    "    try:\n",
    "       \n",
    "        with open(TEN_FILE_CSV, mode='w', newline='', encoding='utf-8') as file:\n",
    "            writer = csv.writer(file)\n",
    "            \n",
    "           \n",
    "            writer.writerows(du_lieu_bai_tho)\n",
    "        \n",
    "    \n",
    "        duong_dan_tuyet_doi = os.path.abspath(TEN_FILE_CSV)\n",
    "        print(\"\\nHOÀN TẤT GHI DỮ LIỆU:\")\n",
    "        print(f\" Đã ghi thông tin 5 bài thơ vào file: {TEN_FILE_CSV}\")\n",
    "        print(f\" File được lưu tại: {duong_dan_tuyet_doi}\")\n",
    "\n",
    "    except Exception as e:\n",
    "        print(f\"\\n  Xảy ra lỗi khi ghi file: {e}\")\n",
    "\n",
    "if __name__ == \"__main__\":\n",
    "    nhap_va_ghi_bai_tho_csv()"
   ]
  },
  {
   "cell_type": "markdown",
   "id": "d36ea3d3",
   "metadata": {},
   "source": [
    "## Lab 7 - Bài 4"
   ]
  },
  {
   "cell_type": "code",
   "execution_count": null,
   "id": "4c707ec1",
   "metadata": {},
   "outputs": [],
   "source": [
    "# code lab 7 bài 4 ở đây"
   ]
  },
  {
   "cell_type": "markdown",
   "id": "e2b41d4a",
   "metadata": {},
   "source": [
    "## Lab 7 - Bài 5: bài tập làm thêm"
   ]
  },
  {
   "cell_type": "code",
   "execution_count": null,
   "id": "0e0172f7",
   "metadata": {},
   "outputs": [],
   "source": [
    "# code lab 7  bài làm thêm ở đây "
   ]
  }
 ],
 "metadata": {
  "kernelspec": {
   "display_name": "Python 3",
   "language": "python",
   "name": "python3"
  },
  "language_info": {
   "codemirror_mode": {
    "name": "ipython",
    "version": 3
   },
   "file_extension": ".py",
   "mimetype": "text/x-python",
   "name": "python",
   "nbconvert_exporter": "python",
   "pygments_lexer": "ipython3",
   "version": "3.13.7"
  }
 },
 "nbformat": 4,
 "nbformat_minor": 5
}
