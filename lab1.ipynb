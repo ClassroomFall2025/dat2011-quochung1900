{
 "cells": [
  {
   "cell_type": "markdown",
   "id": "fdeff819",
   "metadata": {},
   "source": [
    "# Sinh Viên thực hiện Lab 1 ở Đây"
   ]
  },
  {
   "cell_type": "markdown",
   "id": "acc5d7dc",
   "metadata": {},
   "source": [
    "## Lab 1 - Bài 1"
   ]
  },
  {
   "cell_type": "code",
   "execution_count": null,
   "id": "001e0507",
   "metadata": {},
   "outputs": [
    {
     "name": "stdout",
     "output_type": "stream",
     "text": [
      "lab 1 tét\n"
     ]
    }
   ],
   "source": [
    "# Code lab 1 bài 1 ở đây\n",
    "print(\"Xin Chào!\")\n",
    "print(\"Tôi tên là Nguyễn Quốc Hưng\")\n",
    "print(\"Tôi đến từ Bình Thuận\")"
   ]
  },
  {
   "cell_type": "markdown",
   "id": "c0835310",
   "metadata": {},
   "source": [
    "## Lab 1 - Bài 2"
   ]
  },
  {
   "cell_type": "code",
   "execution_count": null,
   "id": "fa9cb39f",
   "metadata": {},
   "outputs": [],
   "source": [
    "# Code lab 1  bài 2 ở đây\n",
    "dai = float(input(\"Nhập chiều dài: \"))\n",
    "rong = float(input(\"Nhập chiều rộng: \"))\n",
    "\n",
    "\n",
    "chu_vi = (dai + rong) * 2\n",
    "dien_tich = dai * rong\n",
    "\n",
    "\n",
    "print(\"Chu vi =\", chu_vi)\n",
    "print(\"Diện tích =\", dien_tich)"
   ]
  },
  {
   "cell_type": "markdown",
   "id": "0f2483fe",
   "metadata": {},
   "source": [
    "## Lab 1 - Bài 3"
   ]
  },
  {
   "cell_type": "code",
   "execution_count": null,
   "id": "7034990b",
   "metadata": {},
   "outputs": [],
   "source": [
    "# Code lab 1  bài 3 ở đây\n",
    "song = \"Sống\"\n",
    "\n",
    "\n",
    "print('\"')   \n",
    "\n",
    "print(f\"{song} không giận, không hờn không oán trách\")\n",
    "print(f\"{song} mỉm cười, với thử thách chông gai\")\n",
    "print(f\"{song} vươn lên, theo kịp ánh ban mai\")\n",
    "print(f\"{song} chan hòa, với những người chung sống.\")\n",
    "\n",
    "print()  \n",
    "\n",
    "print(f\"{song} là động, nhưng Lòng Luôn bất động\")\n",
    "print(f\"{song} là thương, nhưng Lòng chẳng vấn vương\")\n",
    "print(f\"{song} yên vui, danh lợi mãi coi thường\")\n",
    "print(\"Tâm bất biến, giữa dòng đời vạn biến.\")\n",
    "\n",
    "print('\"') "
   ]
  },
  {
   "cell_type": "markdown",
   "id": "d36ea3d3",
   "metadata": {},
   "source": [
    "## Lab 1 - Bài 4"
   ]
  },
  {
   "cell_type": "code",
   "execution_count": null,
   "id": "4c707ec1",
   "metadata": {},
   "outputs": [],
   "source": [
    "# code lab 1 bài 4 ở đây\n",
    "import math\n",
    "\n",
    "\n",
    "a = float(input(\"Nhập a: \"))\n",
    "b = float(input(\"Nhập b: \"))\n",
    "c = float(input(\"Nhập c: \"))\n",
    "\n",
    "\n",
    "delta = b * b - 4 * a * c\n",
    "\n",
    "\n",
    "print(\"Delta =\", delta)\n",
    "\n",
    "if delta >= 0:\n",
    "    can_delta = math.sqrt(delta)\n",
    "    print(\"Căn delta =\", can_delta)\n",
    "else:\n",
    "    print(\"Delta < 0 nên không có căn bậc hai thực\")\n",
    "print(\"lab1\")"
   ]
  },
  {
   "cell_type": "markdown",
   "id": "e2b41d4a",
   "metadata": {},
   "source": [
    "## Lab 1 - Bài 5: bài tập làm thêm"
   ]
  },
  {
   "cell_type": "code",
   "execution_count": null,
   "id": "0e0172f7",
   "metadata": {},
   "outputs": [],
   "source": [
    "# code lab 1  bài làm thêm ở đây \n",
    "import math\n",
    "# Phép tính cơ bản\n",
    "a = float(input(\"Nhập số a: \"))\n",
    "b = float(input(\"Nhập số b: \"))\n",
    "print(\"cộng: \", a + b)\n",
    "print(\"trừ: \", a - b)\n",
    "print(\"nhân: \", a * b)\n",
    "if b != 0:\n",
    "    print(\"chia: \", a / b)\n",
    "else:\n",
    "    print(\"Không thể chia cho 0\")\n",
    "# Lũy thừa\n",
    "x = float(input(\"Nhập cơ số x: \"))\n",
    "y = float(input(\"Nhập số mũ y: \"))\n",
    "print(\"lũy thừa: \", x ** y)\n",
    "# Căn bậc hai\n",
    "v = float(input(\"Nhập số v: \"))\n",
    "if v >= 0:\n",
    "    print(\"căn bậc hai: \", math.sqrt(v))\n",
    "else:\n",
    "    print(\"Không thể tính căn bậc hai của số âm\")\n",
    "# Hàm lượng giác\n",
    "goc = float(input(\"Nhập góc (độ): \"))\n",
    "rad = math.radians(goc)\n",
    "print(\"sin: \", math.sin(rad))\n",
    "print(\"cos: \", math.cos(rad))\n",
    "print(\"tan: \", math.tan(rad))\n",
    "# Logarit\n",
    "so_log = float(input(\"Nhập số cần tính logarit: \"))\n",
    "if so_log > 0:\n",
    "    print(\"Log10:\", math.log10(so_log))\n",
    "    print(\"Ln:\", math.log(so_log))\n",
    "    co_so = float(input(\"Nhập cơ số logarit: \"))\n",
    "    if co_so > 0 and co_so != 1:\n",
    "        print(f\"log cơ số {co_so}:\", math.log(so_log, co_so))\n",
    "    else:\n",
    "        print(\"Cơ số logarit không hợp lệ\")\n",
    "else:\n",
    "    print(\"Không thể tính logarit của số không dương\")"
   ]
  }
 ],
 "metadata": {
  "kernelspec": {
   "display_name": "Python 3",
   "language": "python",
   "name": "python3"
  },
  "language_info": {
   "codemirror_mode": {
    "name": "ipython",
    "version": 3
   },
   "file_extension": ".py",
   "mimetype": "text/x-python",
   "name": "python",
   "nbconvert_exporter": "python",
   "pygments_lexer": "ipython3",
   "version": "3.13.7"
  }
 },
 "nbformat": 4,
 "nbformat_minor": 5
}
