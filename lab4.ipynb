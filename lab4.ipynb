{
 "cells": [
  {
   "cell_type": "markdown",
   "id": "fdeff819",
   "metadata": {},
   "source": [
    "# Sinh Viên thực hiện Lab 4 ở Đây"
   ]
  },
  {
   "cell_type": "markdown",
   "id": "acc5d7dc",
   "metadata": {},
   "source": [
    "## Lab 4 - Bài 1"
   ]
  },
  {
   "cell_type": "code",
   "execution_count": 28,
   "id": "001e0507",
   "metadata": {},
   "outputs": [
    {
     "ename": "ModuleNotFoundError",
     "evalue": "No module named 'lab4'",
     "output_type": "error",
     "traceback": [
      "\u001b[31m---------------------------------------------------------------------------\u001b[39m",
      "\u001b[31mModuleNotFoundError\u001b[39m                       Traceback (most recent call last)",
      "\u001b[36mCell\u001b[39m\u001b[36m \u001b[39m\u001b[32mIn[28]\u001b[39m\u001b[32m, line 3\u001b[39m\n\u001b[32m      1\u001b[39m \u001b[38;5;66;03m# Code lab 4 bài 1 ở đây\u001b[39;00m\n\u001b[32m----> \u001b[39m\u001b[32m3\u001b[39m \u001b[38;5;28;01mimport\u001b[39;00m\u001b[38;5;250m \u001b[39m\u001b[34;01mlab4\u001b[39;00m\n\u001b[32m      4\u001b[39m \u001b[38;5;28mprint\u001b[39m(\u001b[33m\"\u001b[39m\u001b[33mSố tiền nước linh hoạt\u001b[39m\u001b[33m\"\u001b[39m)\n\u001b[32m      5\u001b[39m so_nuoc = \u001b[38;5;28mfloat\u001b[39m(\u001b[38;5;28minput\u001b[39m(\u001b[33m\"\u001b[39m\u001b[33mSố tiền nước đã sử dụng(m3):\u001b[39m\u001b[33m\"\u001b[39m))\n",
      "\u001b[31mModuleNotFoundError\u001b[39m: No module named 'lab4'"
     ]
    }
   ],
   "source": [
    "# Code lab 4 bài 1 ở đây\n",
    "\n",
    "import lab4\n",
    "print(\"Số tiền nước linh hoạt\")\n",
    "so_nuoc = float(input(\"Số tiền nước đã sử dụng(m3):\"))\n",
    "print(f\"Tổng số tiền nước phải trả là:{lab4.tinh_tien_nuoc(so_nuoc):,.0f} VND\")\n",
    "\n",
    "\n"
   ]
  },
  {
   "cell_type": "markdown",
   "id": "c0835310",
   "metadata": {},
   "source": [
    "## Lab 4 - Bài 2"
   ]
  },
  {
   "cell_type": "code",
   "execution_count": null,
   "id": "fa9cb39f",
   "metadata": {},
   "outputs": [
    {
     "ename": "ModuleNotFoundError",
     "evalue": "No module named 'lab4'",
     "output_type": "error",
     "traceback": [
      "\u001b[31m---------------------------------------------------------------------------\u001b[39m",
      "\u001b[31mModuleNotFoundError\u001b[39m                       Traceback (most recent call last)",
      "\u001b[36mCell\u001b[39m\u001b[36m \u001b[39m\u001b[32mIn[23]\u001b[39m\u001b[32m, line 2\u001b[39m\n\u001b[32m      1\u001b[39m \u001b[38;5;66;03m# Code lab 4  bài 2 ở đây\u001b[39;00m\n\u001b[32m----> \u001b[39m\u001b[32m2\u001b[39m \u001b[38;5;28;01mfrom\u001b[39;00m\u001b[38;5;250m \u001b[39m\u001b[34;01mlab4\u001b[39;00m\u001b[38;5;250m \u001b[39m\u001b[38;5;28;01mimport\u001b[39;00m tinh_nguyen_lieu\n\u001b[32m      3\u001b[39m \u001b[38;5;28mprint\u001b[39m(\u001b[33m\"\u001b[39m\u001b[33mTính nguyên liệu bánh trong hộp: \u001b[39m\u001b[33m\"\u001b[39m)\n\u001b[32m      4\u001b[39m nguyen_lieu= \u001b[38;5;28mfloat\u001b[39m(\u001b[38;5;28minput\u001b[39m(\u001b[33m\"\u001b[39m\u001b[33mNhập nguyên liệu bánh đã sử dụng(m3): \u001b[39m\u001b[33m\"\u001b[39m))\n",
      "\u001b[31mModuleNotFoundError\u001b[39m: No module named 'lab4'"
     ]
    }
   ],
   "source": [
    "# Code lab 4  bài 2 ở đây\n",
    "from lab4 import tinh_nguyen_lieu\n",
    "print(\"Tính nguyên liệu làm bánh\")\n",
    "so_banh = float(input(\"nhập số bánh nguyên liệu đã làm: \"))\n",
    "nguyen_lieu = tinh_nguyen_lieu(sl_bdx, sl_btc, sl_bd)\n",
    "\n",
    "print(\"Nguyên liệu cần chuẩn bị:\")\n",
    "print(f\"- Đường: {nguyen_lieu['đường']:.2f} kg\")\n",
    "print(f\"- Đậu: {nguyen_lieu['đậu']:.2f} kg\")"
   ]
  },
  {
   "cell_type": "markdown",
   "id": "0f2483fe",
   "metadata": {},
   "source": [
    "## Lab 4 - Bài 3"
   ]
  },
  {
   "cell_type": "code",
   "execution_count": 5,
   "id": "7034990b",
   "metadata": {},
   "outputs": [
    {
     "name": "stdout",
     "output_type": "stream",
     "text": [
      "Lỗi: phải nhập số nguyên!\n",
      "Lỗi: phải nhập số nguyên!\n",
      "Lỗi: phải nhập số nguyên!\n",
      "Lỗi: phải nhập số nguyên!\n",
      "Lỗi: phải nhập số nguyên!\n",
      "Dãy số chẵn nhập:  [5, 9, 9, 41, 3213, 21421, 21, 21, 44214, 54, 23, 5464773, 3, 10, 1, 12, 32, 4, 5, 10, 8, 22]\n",
      "Các số chẵn:  [44214, 54, 10, 12, 32, 4, 10, 8, 22]\n"
     ]
    }
   ],
   "source": [
    "# Code lab 4  bài 3 ở đây\n",
    "my_list= []\n",
    "while True:\n",
    "    x = input(\"Nhập số: \")\n",
    "    if x.lower() == \"s\":\n",
    "        break\n",
    "    try:\n",
    "        my_list.append(int(x))\n",
    "    except:\n",
    "        print(\"Lỗi: phải nhập số nguyên!\")\n",
    "\n",
    "so_chan= list(filter(lambda n : n % 2 == 0,my_list))\n",
    "print(\"Dãy số chẵn nhập: \",my_list)\n",
    "print(\"Các số chẵn: \", so_chan)"
   ]
  },
  {
   "cell_type": "markdown",
   "id": "d36ea3d3",
   "metadata": {},
   "source": [
    "## Lab 4 - Bài 4"
   ]
  },
  {
   "cell_type": "code",
   "execution_count": 24,
   "id": "4c707ec1",
   "metadata": {},
   "outputs": [
    {
     "ename": "SyntaxError",
     "evalue": "invalid syntax (2490014566.py, line 2)",
     "output_type": "error",
     "traceback": [
      "  \u001b[36mCell\u001b[39m\u001b[36m \u001b[39m\u001b[32mIn[24]\u001b[39m\u001b[32m, line 2\u001b[39m\n\u001b[31m    \u001b[39m\u001b[31mfrom lab 4 import tinh_nguyen_lieu, tinh_tien_nuoc\u001b[39m\n             ^\n\u001b[31mSyntaxError\u001b[39m\u001b[31m:\u001b[39m invalid syntax\n"
     ]
    }
   ],
   "source": [
    "# code lab 4 bài 4 ở đây\n",
    "from lab 4 import tinh_nguyen_lieu, tinh_tien_nuoc\n",
    "menu = {\n",
    "    \"1\": \"Tính tiền nước sinh hoạt\",\n",
    "    \"2\": \"Tính nguyên liệu làm bánh\",\n",
    "    \"3\": \"Thoát\"\n",
    "}\n",
    "\n",
    "while True:\n",
    "    print(\"=\"*10 + \" MENU \" + \"=\"*10)\n",
    "    for key, value in menu.items():\n",
    "        print(f\"{key}. {value}\")\n",
    "    print(\"=\"*30)\n",
    "\n",
    "    lua_chon = input(\"Mời bạn chọn chức năng: \")\n",
    "\n",
    "    if lua_chon == \"1\":\n",
    "        print(\" Tính tiền nước sinh hoạt \")\n",
    "        try:\n",
    "            so_nuoc = float(input(\"Nhập số nước đã sử dụng (m3): \"))\n",
    "            print(f\"Tiền nước phải trả cho {so_nuoc} m3 là {tinh_tien_nuoc(so_nuoc):,.0f} đồng\")\n",
    "        except ValueError:\n",
    "            print(\"Vui lòng nhập số hợp lệ!\")\n",
    "\n",
    "    elif lua_chon == \"2\":\n",
    "        print(\" Tính nguyên liệu làm bánh \")\n",
    "        try:\n",
    "            sl_bdx = int(input(\"Nhập số lượng bánh đậu xanh: \"))\n",
    "            sl_btc = int(input(\"Nhập số lượng bánh thập cẩm: \"))\n",
    "            sl_bd = int(input(\"Nhập số lượng bánh dẻo: \"))\n",
    "\n",
    "            nguyen_lieu = tinh_nguyen_lieu(sl_bdx, sl_btc, sl_bd)\n",
    "            print(\"Nguyên liệu cần chuẩn bị:\")\n",
    "            print(f\"- Đường: {nguyen_lieu['đường']:.2f} kg\")\n",
    "            print(f\"- Đậu: {nguyen_lieu['đậu']:.2f} kg\")\n",
    "        except ValueError:\n",
    "            print(\"Vui lòng nhập số nguyên hợp lệ!\")\n",
    "\n",
    "    elif lua_chon == \"3\":\n",
    "        print(\"Thoát chương trình.\")\n",
    "        break\n",
    "    else:\n",
    "        print(\"Vui lòng chọn đúng chức năng (1, 2 hoặc 3).\")\n"
   ]
  },
  {
   "cell_type": "markdown",
   "id": "e2b41d4a",
   "metadata": {},
   "source": [
    "## Lab 4 - Bài 5: bài tập làm thêm"
   ]
  },
  {
   "cell_type": "code",
   "execution_count": null,
   "id": "0e0172f7",
   "metadata": {},
   "outputs": [],
   "source": [
    "# code lab 4  bài làm thêm ở đây "
   ]
  }
 ],
 "metadata": {
  "kernelspec": {
   "display_name": "Python 3",
   "language": "python",
   "name": "python3"
  },
  "language_info": {
   "codemirror_mode": {
    "name": "ipython",
    "version": 3
   },
   "file_extension": ".py",
   "mimetype": "text/x-python",
   "name": "python",
   "nbconvert_exporter": "python",
   "pygments_lexer": "ipython3",
   "version": "3.13.7"
  }
 },
 "nbformat": 4,
 "nbformat_minor": 5
}
