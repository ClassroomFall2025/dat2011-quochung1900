{
 "cells": [
  {
   "cell_type": "markdown",
   "id": "fdeff819",
   "metadata": {},
   "source": [
    "# Sinh Viên thực hiện Lab 4 ở Đây"
   ]
  },
  {
   "cell_type": "markdown",
   "id": "acc5d7dc",
   "metadata": {},
   "source": [
    "## Lab 4 - Bài 1"
   ]
  },
  {
   "cell_type": "code",
   "execution_count": 1,
   "id": "001e0507",
   "metadata": {},
   "outputs": [
    {
     "name": "stdout",
     "output_type": "stream",
     "text": [
      "Số tiền nước linh hoạt\n",
      "Tổng số tiền nước phải trả là:331,000 VND\n"
     ]
    }
   ],
   "source": [
    "# Code lab 4 bài 1 ở đây\n",
    "\n",
    "import lab4\n",
    "print(\"Số tiền nước linh hoạt\")\n",
    "so_nuoc = float(input(\"Số tiền nước đã sử dụng(m3):\"))\n",
    "print(f\"Tổng số tiền nước phải trả là:{lab4.tinh_tien_nuoc(so_nuoc):,.0f} VND\")\n",
    "\n",
    "\n"
   ]
  },
  {
   "cell_type": "markdown",
   "id": "c0835310",
   "metadata": {},
   "source": [
    "## Lab 4 - Bài 2"
   ]
  },
  {
   "cell_type": "code",
   "execution_count": 4,
   "id": "fa9cb39f",
   "metadata": {},
   "outputs": [
    {
     "name": "stdout",
     "output_type": "stream",
     "text": [
      " Tính nguyên liệu làm bánh \n",
      " Nguyên liệu cần chuẩn bị để làm 5 cái bánh \n",
      " Đường: 1.4400000000000002 kg\n",
      " Đậu: 2.2800000000000002 kg\n"
     ]
    }
   ],
   "source": [
    "# Code lab 4  bài 2 ở đây\n",
    "from lab4 import tinh_nguyen_lieu\n",
    "print(\" Tính nguyên liệu làm bánh \")\n",
    "sl_bdx = int(input(\"Nhập số bánh đậu xanh: \"))\n",
    "sl_btc = int(input(\"Nhập số bánh thập cẩm: \"))\n",
    "sl_bd = int(input(\"Nhập số bánh dẻo: \"))\n",
    "nguyen_lieu = tinh_nguyen_lieu(sl_bdx, sl_btc, sl_bd)\n",
    "print(f\" Nguyên liệu cần chuẩn bị để làm {sl_bd + sl_btc + sl_bd} cái bánh \")\n",
    "print(f\" Đường: {nguyen_lieu[\"đường\"]} kg\")\n",
    "print(f\" Đậu: {nguyen_lieu[\"đậu\"]} kg\")"
   ]
  },
  {
   "cell_type": "markdown",
   "id": "0f2483fe",
   "metadata": {},
   "source": [
    "## Lab 4 - Bài 3"
   ]
  },
  {
   "cell_type": "code",
   "execution_count": 5,
   "id": "7034990b",
   "metadata": {},
   "outputs": [
    {
     "name": "stdout",
     "output_type": "stream",
     "text": [
      "Lỗi: phải nhập số nguyên!\n",
      "Lỗi: phải nhập số nguyên!\n",
      "Lỗi: phải nhập số nguyên!\n",
      "Lỗi: phải nhập số nguyên!\n",
      "Lỗi: phải nhập số nguyên!\n",
      "Dãy số chẵn nhập:  [5, 9, 9, 41, 3213, 21421, 21, 21, 44214, 54, 23, 5464773, 3, 10, 1, 12, 32, 4, 5, 10, 8, 22]\n",
      "Các số chẵn:  [44214, 54, 10, 12, 32, 4, 10, 8, 22]\n"
     ]
    }
   ],
   "source": [
    "# Code lab 4  bài 3 ở đây\n",
    "my_list= []\n",
    "while True:\n",
    "    x = input(\"Nhập số: \")\n",
    "    if x.lower() == \"s\":\n",
    "        break\n",
    "    try:\n",
    "        my_list.append(int(x))\n",
    "    except:\n",
    "        print(\"Lỗi: phải nhập số nguyên!\")\n",
    "\n",
    "so_chan= list(filter(lambda n : n % 2 == 0,my_list))\n",
    "print(\"Dãy số chẵn nhập: \",my_list)\n",
    "print(\"Các số chẵn: \", so_chan)"
   ]
  },
  {
   "cell_type": "markdown",
   "id": "d36ea3d3",
   "metadata": {},
   "source": [
    "## Lab 4 - Bài 4"
   ]
  },
  {
   "cell_type": "code",
   "execution_count": null,
   "id": "4c707ec1",
   "metadata": {},
   "outputs": [
    {
     "name": "stdout",
     "output_type": "stream",
     "text": [
      "========== MENU ==========\n",
      "1. Tính tiền nước sinh hoạt\n",
      "2. Tính nguyên liệu làm bánh\n",
      "3. Thoát\n",
      "==============================\n"
     ]
    },
    {
     "name": "stdout",
     "output_type": "stream",
     "text": [
      "\n",
      "--- Tính tiền nước sinh hoạt ---\n",
      "Tiền nước phải trả cho 32.0 m³ là 331,000 đồng\n",
      "\n",
      "========== MENU ==========\n",
      "1. Tính tiền nước sinh hoạt\n",
      "2. Tính nguyên liệu làm bánh\n",
      "3. Thoát\n",
      "==============================\n",
      "\n",
      "--- Tính nguyên liệu làm bánh ---\n",
      "\n",
      "Nguyên liệu cần chuẩn bị:\n",
      "- Đường: 0.75 kg\n",
      "- Đậu: 0.90 kg\n",
      "\n",
      "========== MENU ==========\n",
      "1. Tính tiền nước sinh hoạt\n",
      "2. Tính nguyên liệu làm bánh\n",
      "3. Thoát\n",
      "==============================\n",
      "⚠️ Vui lòng chọn đúng chức năng (1, 2 hoặc 3).\n",
      "\n",
      "========== MENU ==========\n",
      "1. Tính tiền nước sinh hoạt\n",
      "2. Tính nguyên liệu làm bánh\n",
      "3. Thoát\n",
      "==============================\n",
      "👋 Thoát chương trình. Tạm biệt!\n"
     ]
    }
   ],
   "source": [
    "# code lab 4 bài 4 ở đây\n",
    "from lab4 import tinh_nguyen_lieu, tinh_tien_nuoc\n",
    "\n",
    "menu = {\n",
    "    \"1\": \"Tính tiền nước sinh hoạt\",\n",
    "    \"2\": \"Tính nguyên liệu làm bánh\",\n",
    "    \"3\": \"Thoát\"\n",
    "}\n",
    "\n",
    "while True:\n",
    "    print(\"=\" * 10 + \" MENU \" + \"=\" * 10)\n",
    "    for key, value in menu.items():\n",
    "        print(f\"{key}. {value}\")\n",
    "    print(\"=\" * 30)\n",
    "\n",
    "    lua_chon = input(\"Mời bạn chọn chức năng: \")\n",
    "\n",
    "    if lua_chon == \"1\":\n",
    "        print(\"\\n--- Tính tiền nước sinh hoạt ---\")\n",
    "        try:\n",
    "            so_nuoc = float(input(\"Nhập số nước đã sử dụng (m³): \"))\n",
    "            print(f\"Tiền nước phải trả cho {so_nuoc:.1f} m³ là {tinh_tien_nuoc(so_nuoc):,.0f} đồng\\n\")\n",
    "        except ValueError:\n",
    "            print(\" Vui lòng nhập số hợp lệ!\\n\")\n",
    "\n",
    "    elif lua_chon == \"2\":\n",
    "        print(\"\\n--- Tính nguyên liệu làm bánh ---\")\n",
    "        try:\n",
    "            sl_bdx = int(input(\"Nhập số lượng bánh đậu xanh: \"))\n",
    "            sl_btc = int(input(\"Nhập số lượng bánh thập cẩm: \"))\n",
    "            sl_bd = int(input(\"Nhập số lượng bánh dẻo: \"))\n",
    "\n",
    "            nguyen_lieu = tinh_nguyen_lieu(sl_bdx, sl_btc, sl_bd)\n",
    "            print(\"\\nNguyên liệu cần chuẩn bị:\")\n",
    "            print(f\"- Đường: {nguyen_lieu['đường']:.2f} kg\")\n",
    "            print(f\"- Đậu: {nguyen_lieu['đậu']:.2f} kg\\n\")\n",
    "        except ValueError:\n",
    "            print(\" Vui lòng nhập số nguyên hợp lệ!\\n\")\n",
    "\n",
    "    elif lua_chon == \"3\":\n",
    "        print(\" Thoát chương trình. Tạm biệt!\")\n",
    "        break\n",
    "\n",
    "    else:\n",
    "        print(\" Vui lòng chọn đúng chức năng (1, 2 hoặc 3).\\n\")\n",
    "\n"
   ]
  },
  {
   "cell_type": "markdown",
   "id": "e2b41d4a",
   "metadata": {},
   "source": [
    "## Lab 4 - Bài 5: bài tập làm thêm"
   ]
  },
  {
   "cell_type": "code",
   "execution_count": 17,
   "id": "0e0172f7",
   "metadata": {},
   "outputs": [
    {
     "name": "stdout",
     "output_type": "stream",
     "text": [
      "----- MENU -----\n",
      "1. Cộng\n",
      "2. Trừ\n",
      "3. Nhân\n",
      "4. Chia\n",
      "0. Thoát\n",
      "Kết quả: 23.0 + 23.0 = 46.0\n",
      "----- MENU -----\n",
      "1. Cộng\n",
      "2. Trừ\n",
      "3. Nhân\n",
      "4. Chia\n",
      "0. Thoát\n",
      "Thoát chương trình.\n"
     ]
    }
   ],
   "source": [
    "# code lab 4  bài làm thêm ở đây \n",
    "import lab3\n",
    "\n",
    "def menu():\n",
    "    print(\"----- MENU -----\")\n",
    "    print(\"1. Cộng\")\n",
    "    print(\"2. Trừ\")\n",
    "    print(\"3. Nhân\")\n",
    "    print(\"4. Chia\")\n",
    "    print(\"0. Thoát\")\n",
    "\n",
    "while True:\n",
    "    menu()\n",
    "    chon = input(\"Chọn phép tính (0-4): \")\n",
    "\n",
    "    if chon == \"0\":\n",
    "        print(\"Thoát chương trình.\")\n",
    "        break\n",
    "    elif chon in [\"1\", \"2\", \"3\", \"4\"]:\n",
    "        a = float(input(\"Nhập số thứ nhất: \"))\n",
    "        b = float(input(\"Nhập số thứ hai: \"))\n",
    "\n",
    "        if chon == \"1\":\n",
    "            kq = a + b\n",
    "            print(f\"Kết quả: {a} + {b} = {kq}\")\n",
    "        elif chon == \"2\":\n",
    "            kq = a - b\n",
    "            print(f\"Kết quả: {a} - {b} = {kq}\")\n",
    "        elif chon == \"3\":\n",
    "            kq = a * b\n",
    "            print(f\"Kết quả: {a} × {b} = {kq}\")\n",
    "        elif chon == \"4\":\n",
    "            if b != 0:\n",
    "                kq = a / b\n",
    "                print(f\"Kết quả: {a} ÷ {b} = {kq}\")\n",
    "            else:\n",
    "                print(\"Lỗi: Không thể chia cho 0!\")\n",
    "    else:\n",
    "        print(\"Lựa chọn không hợp lệ, vui lòng nhập lại.\")\n"
   ]
  }
 ],
 "metadata": {
  "kernelspec": {
   "display_name": "Python 3",
   "language": "python",
   "name": "python3"
  },
  "language_info": {
   "codemirror_mode": {
    "name": "ipython",
    "version": 3
   },
   "file_extension": ".py",
   "mimetype": "text/x-python",
   "name": "python",
   "nbconvert_exporter": "python",
   "pygments_lexer": "ipython3",
   "version": "3.13.7"
  }
 },
 "nbformat": 4,
 "nbformat_minor": 5
}
