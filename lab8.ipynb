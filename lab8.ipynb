{
 "cells": [
  {
   "cell_type": "markdown",
   "id": "fdeff819",
   "metadata": {},
   "source": [
    "# Sinh Viên thực hiện Lab 8 ở Đây"
   ]
  },
  {
   "cell_type": "markdown",
   "id": "acc5d7dc",
   "metadata": {},
   "source": [
    "## Lab 8 - Bài 1"
   ]
  },
  {
   "cell_type": "code",
   "execution_count": 1,
   "id": "001e0507",
   "metadata": {},
   "outputs": [
    {
     "name": "stdout",
     "output_type": "stream",
     "text": [
      "Họ: NGUYEN\n",
      "Tên đệm: quoc\n",
      "Tên: HUNG\n"
     ]
    }
   ],
   "source": [
    "# Code lab 8 bài 1 ở đây\n",
    "\n",
    "ho_ten = input(\"Nhập họ và tên: \")\n",
    "\n",
    "parts = ho_ten.split()\n",
    "\n",
    "ho = parts[0]\n",
    "ten = parts[-1]\n",
    "ten_dem = \" \".join(parts[1:-1]) if len(parts) > 2 else \"\"\n",
    "\n",
    "print(\"Họ:\", ho.upper())\n",
    "print(\"Tên đệm:\", ten_dem)\n",
    "print(\"Tên:\", ten.upper())\n"
   ]
  },
  {
   "cell_type": "markdown",
   "id": "c0835310",
   "metadata": {},
   "source": [
    "## Lab 8 - Bài 2"
   ]
  },
  {
   "cell_type": "code",
   "execution_count": 4,
   "id": "fa9cb39f",
   "metadata": {},
   "outputs": [
    {
     "name": "stdout",
     "output_type": "stream",
     "text": [
      "Số điện thoại không hợp lệ! Phải có 10 số và bắt đầu bằng 0.\n",
      "Số điện thoại không hợp lệ! Phải có 10 số và bắt đầu bằng 0.\n",
      "CMND/CCCD không hợp lệ! Phải có 9 hoặc 12 chữ số.\n",
      "\n",
      "Thông tin sinh viên:\n",
      "Ho_ten: NQH\n",
      "Email: dang@gmail.com\n",
      "So_dien_thoai: 0912813213\n",
      "Cmnd: 014023201212\n"
     ]
    }
   ],
   "source": [
    "# Code lab 8  bài 2 ở đây\n",
    "import re\n",
    "\n",
    "\n",
    "def kiem_tra_email(email):\n",
    "    pattern = r'^[\\w\\.-]+@[\\w\\.-]+\\.\\w+$'\n",
    "    return re.match(pattern, email)\n",
    "\n",
    "def kiem_tra_sdt(sdt):\n",
    "    pattern = r'^0\\d{9}$'\n",
    "    return re.match(pattern, sdt)\n",
    "\n",
    "\n",
    "def kiem_tra_cmnd(cmnd):\n",
    "    pattern = r'^\\d{9}$|^\\d{12}$'\n",
    "    return re.match(pattern, cmnd)\n",
    "\n",
    "\n",
    "sinh_vien = {}\n",
    "\n",
    "sinh_vien[\"ho_ten\"] = input(\"Nhập họ và tên: \")\n",
    "\n",
    "\n",
    "email = input(\"Nhập email: \")\n",
    "while not kiem_tra_email(email):\n",
    "    print(\"Email không hợp lệ! Vui lòng nhập lại (ví dụ: ten@gmail.com)\")\n",
    "    email = input(\"Nhập email: \")\n",
    "sinh_vien[\"email\"] = email\n",
    "\n",
    "sdt = input(\"Nhập số điện thoại: \")\n",
    "while not kiem_tra_sdt(sdt):\n",
    "    print(\"Số điện thoại không hợp lệ! Phải có 10 số và bắt đầu bằng 0.\")\n",
    "    sdt = input(\"Nhập số điện thoại: \")\n",
    "sinh_vien[\"so_dien_thoai\"] = sdt\n",
    "\n",
    "cmnd = input(\"Nhập số CMND/CCCD: \")\n",
    "while not kiem_tra_cmnd(cmnd):\n",
    "    print(\"CMND/CCCD không hợp lệ! Phải có 9 hoặc 12 chữ số.\")\n",
    "    cmnd = input(\"Nhập số CMND/CCCD: \")\n",
    "sinh_vien[\"cmnd\"] = cmnd\n",
    "\n",
    "print(\"\\nThông tin sinh viên:\")\n",
    "for key, value in sinh_vien.items():\n",
    "    print(f\"{key.capitalize()}: {value}\")\n"
   ]
  },
  {
   "cell_type": "markdown",
   "id": "0f2483fe",
   "metadata": {},
   "source": [
    "## Lab 8 - Bài 3"
   ]
  },
  {
   "cell_type": "code",
   "execution_count": 5,
   "id": "7034990b",
   "metadata": {},
   "outputs": [
    {
     "name": "stdout",
     "output_type": "stream",
     "text": [
      "Đã tạo file 'so_ngau_nhien.txt' chứa 1.000.000 số ngẫu nhiên trong khoảng 0 - 100.\n"
     ]
    }
   ],
   "source": [
    "# Code lab 8  bài 3 ở đây\n",
    "import random\n",
    "\n",
    "\n",
    "numbers = [str(random.randint(0, 100)) for _ in range(1_000_000)]\n",
    "\n",
    "\n",
    "with open(\"so_ngau_nhien.txt\", \"w\") as f:\n",
    "    f.write(\" \".join(numbers))\n",
    "\n",
    "print(\"Đã tạo file 'so_ngau_nhien.txt' chứa 1.000.000 số ngẫu nhiên trong khoảng 0 - 100.\")\n"
   ]
  },
  {
   "cell_type": "markdown",
   "id": "d36ea3d3",
   "metadata": {},
   "source": [
    "## Lab 8 - Bài 4"
   ]
  },
  {
   "cell_type": "code",
   "execution_count": 6,
   "id": "4c707ec1",
   "metadata": {},
   "outputs": [
    {
     "name": "stdout",
     "output_type": "stream",
     "text": [
      "\n",
      "Kết quả tính toán (Sử dụng iterator):\n",
      "Trung bình: 49.985912\n",
      "Độ lệch chuẩn: 29.160705201949146\n"
     ]
    }
   ],
   "source": [
    "# code lab 8 bài 4 ở đây\n",
    "import statistics\n",
    "\n",
    "def read_numbers(filename):\n",
    "    with open(filename, \"r\") as f:\n",
    "        for num in f.read().split():\n",
    "            yield int(num)  \n",
    "data_iter = list(read_numbers(\"so_ngau_nhien.txt\"))\n",
    "\n",
    "mean_value = statistics.mean(data_iter)\n",
    "stdev_value = statistics.stdev(data_iter)\n",
    "\n",
    "print(\"\\nKết quả tính toán (Sử dụng iterator):\")\n",
    "print(\"Trung bình:\", mean_value)\n",
    "print(\"Độ lệch chuẩn:\", stdev_value)\n"
   ]
  },
  {
   "cell_type": "markdown",
   "id": "e2b41d4a",
   "metadata": {},
   "source": [
    "## Lab 8 - Bài 5: bài tập làm thêm"
   ]
  },
  {
   "cell_type": "code",
   "execution_count": null,
   "id": "0e0172f7",
   "metadata": {},
   "outputs": [],
   "source": [
    "# code lab 8  bài làm thêm ở đây "
   ]
  }
 ],
 "metadata": {
  "kernelspec": {
   "display_name": "Python 3",
   "language": "python",
   "name": "python3"
  },
  "language_info": {
   "codemirror_mode": {
    "name": "ipython",
    "version": 3
   },
   "file_extension": ".py",
   "mimetype": "text/x-python",
   "name": "python",
   "nbconvert_exporter": "python",
   "pygments_lexer": "ipython3",
   "version": "3.13.7"
  }
 },
 "nbformat": 4,
 "nbformat_minor": 5
}
